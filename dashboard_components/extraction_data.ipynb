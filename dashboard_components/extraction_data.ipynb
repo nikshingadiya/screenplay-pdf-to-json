{
 "cells": [
  {
   "cell_type": "code",
   "execution_count": 9,
   "metadata": {},
   "outputs": [],
   "source": [
    "import re\n",
    "import json\n",
    "from nested_lookup import nested_lookup\n",
    "# Your JSON data as a string\n",
    "document = [ { 'taco' : 42 } , { 'salsa' : [ { 'burrito' : { 'taco' : 69 } } ] } ]\n",
    "# Define a regular expression pattern to extract values associated with the key \"inner_key\""
   ]
  },
  {
   "cell_type": "code",
   "execution_count": 10,
   "metadata": {},
   "outputs": [
    {
     "name": "stdout",
     "output_type": "stream",
     "text": [
      "[42, 69]\n"
     ]
    }
   ],
   "source": [
    "print(nested_lookup(\"taco\",document))"
   ]
  },
  {
   "cell_type": "code",
   "execution_count": 11,
   "metadata": {},
   "outputs": [],
   "source": [
    "with open(\"pacific.json\",\"rb\") as f:\n",
    "    data_dict=json.load(f)"
   ]
  },
  {
   "cell_type": "markdown",
   "metadata": {},
   "source": [
    "## Character Extraction"
   ]
  },
  {
   "cell_type": "code",
   "execution_count": 12,
   "metadata": {},
   "outputs": [
    {
     "data": {
      "text/plain": [
       "{'A drill  It cant be an',\n",
       " 'BENVENISTE',\n",
       " 'CALHOUN',\n",
       " 'COMMANDER',\n",
       " 'COUNSELOR',\n",
       " 'CZERNY',\n",
       " 'DIGITAL VOICE',\n",
       " 'DISPATCH',\n",
       " 'DUC',\n",
       " 'FLICK',\n",
       " 'JIAO',\n",
       " 'KAORI',\n",
       " 'LETHBRIDGE',\n",
       " 'LETHEBRIDGE',\n",
       " 'MAKO',\n",
       " 'NEWT',\n",
       " 'No Its real Flick listen',\n",
       " 'OFFICER',\n",
       " 'OFFICER 1',\n",
       " 'OFFICER 2',\n",
       " 'OPS OFFICER',\n",
       " 'PENTECOST',\n",
       " 'PROXY2',\n",
       " 'RALEIGH',\n",
       " 'REPORTER 1',\n",
       " 'REPORTER 2',\n",
       " 'TAKADA',\n",
       " 'TELEMETRY SPECIALIST',\n",
       " 'TENDO',\n",
       " 'TOYNBEE',\n",
       " 'Thank you Sensei',\n",
       " 'YANCY',\n",
       " 'YOUNG MAKO'}"
      ]
     },
     "execution_count": 12,
     "metadata": {},
     "output_type": "execute_result"
    }
   ],
   "source": [
    "set(nested_lookup(\"character\",data_dict))"
   ]
  },
  {
   "cell_type": "code",
   "execution_count": 13,
   "metadata": {},
   "outputs": [],
   "source": [
    "filtered_character=set([i.strip().upper() for  i in set(nested_lookup(\"character\",data_dict))])"
   ]
  },
  {
   "cell_type": "code",
   "execution_count": 14,
   "metadata": {},
   "outputs": [
    {
     "data": {
      "text/plain": [
       "{'A DRILL  IT CANT BE AN',\n",
       " 'BENVENISTE',\n",
       " 'CALHOUN',\n",
       " 'COMMANDER',\n",
       " 'COUNSELOR',\n",
       " 'CZERNY',\n",
       " 'DIGITAL VOICE',\n",
       " 'DISPATCH',\n",
       " 'DUC',\n",
       " 'FLICK',\n",
       " 'JIAO',\n",
       " 'KAORI',\n",
       " 'LETHBRIDGE',\n",
       " 'LETHEBRIDGE',\n",
       " 'MAKO',\n",
       " 'NEWT',\n",
       " 'NO ITS REAL FLICK LISTEN',\n",
       " 'OFFICER',\n",
       " 'OFFICER 1',\n",
       " 'OFFICER 2',\n",
       " 'OPS OFFICER',\n",
       " 'PENTECOST',\n",
       " 'PROXY2',\n",
       " 'RALEIGH',\n",
       " 'REPORTER 1',\n",
       " 'REPORTER 2',\n",
       " 'TAKADA',\n",
       " 'TELEMETRY SPECIALIST',\n",
       " 'TENDO',\n",
       " 'THANK YOU SENSEI',\n",
       " 'TOYNBEE',\n",
       " 'YANCY',\n",
       " 'YOUNG MAKO'}"
      ]
     },
     "execution_count": 14,
     "metadata": {},
     "output_type": "execute_result"
    }
   ],
   "source": [
    "filtered_character"
   ]
  },
  {
   "cell_type": "code",
   "execution_count": 15,
   "metadata": {},
   "outputs": [],
   "source": [
    "import re\n",
    "\n",
    "def remove_symbols(input_string):\n",
    "    # Remove all non-alphabetic characters\n",
    "    result_string = re.sub(r'[^a-zA-Z]', '', input_string)\n",
    "    return result_string\n",
    "filtered_character=set([remove_symbols(i) for i in filtered_character])"
   ]
  },
  {
   "cell_type": "code",
   "execution_count": 16,
   "metadata": {},
   "outputs": [
    {
     "data": {
      "text/plain": [
       "{'ADRILLITCANTBEAN',\n",
       " 'BENVENISTE',\n",
       " 'CALHOUN',\n",
       " 'COMMANDER',\n",
       " 'COUNSELOR',\n",
       " 'CZERNY',\n",
       " 'DIGITALVOICE',\n",
       " 'DISPATCH',\n",
       " 'DUC',\n",
       " 'FLICK',\n",
       " 'JIAO',\n",
       " 'KAORI',\n",
       " 'LETHBRIDGE',\n",
       " 'LETHEBRIDGE',\n",
       " 'MAKO',\n",
       " 'NEWT',\n",
       " 'NOITSREALFLICKLISTEN',\n",
       " 'OFFICER',\n",
       " 'OPSOFFICER',\n",
       " 'PENTECOST',\n",
       " 'PROXY',\n",
       " 'RALEIGH',\n",
       " 'REPORTER',\n",
       " 'TAKADA',\n",
       " 'TELEMETRYSPECIALIST',\n",
       " 'TENDO',\n",
       " 'THANKYOUSENSEI',\n",
       " 'TOYNBEE',\n",
       " 'YANCY',\n",
       " 'YOUNGMAKO'}"
      ]
     },
     "execution_count": 16,
     "metadata": {},
     "output_type": "execute_result"
    }
   ],
   "source": [
    "filtered_character"
   ]
  },
  {
   "cell_type": "markdown",
   "metadata": {},
   "source": [
    "## How Many Scene We have"
   ]
  },
  {
   "cell_type": "code",
   "execution_count": null,
   "metadata": {},
   "outputs": [],
   "source": []
  }
 ],
 "metadata": {
  "kernelspec": {
   "display_name": "venv",
   "language": "python",
   "name": "python3"
  },
  "language_info": {
   "codemirror_mode": {
    "name": "ipython",
    "version": 3
   },
   "file_extension": ".py",
   "mimetype": "text/x-python",
   "name": "python",
   "nbconvert_exporter": "python",
   "pygments_lexer": "ipython3",
   "version": "3.8.10"
  }
 },
 "nbformat": 4,
 "nbformat_minor": 2
}
